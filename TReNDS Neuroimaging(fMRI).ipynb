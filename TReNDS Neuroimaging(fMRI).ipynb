{
 "cells": [
  {
   "cell_type": "code",
   "execution_count": 1,
   "id": "5751cfda",
   "metadata": {},
   "outputs": [],
   "source": [
    "import numpy as np\n",
    "import pandas as pd"
   ]
  },
  {
   "cell_type": "code",
   "execution_count": 2,
   "id": "c5c9e97a",
   "metadata": {},
   "outputs": [],
   "source": [
    "trends= pd.read_csv(\"sample_submission.csv\")\n",
    "trends2 = pd.read_csv(\"submission1.csv\")"
   ]
  },
  {
   "cell_type": "code",
   "execution_count": 3,
   "id": "8d931772",
   "metadata": {},
   "outputs": [
    {
     "data": {
      "text/html": [
       "<div>\n",
       "<style scoped>\n",
       "    .dataframe tbody tr th:only-of-type {\n",
       "        vertical-align: middle;\n",
       "    }\n",
       "\n",
       "    .dataframe tbody tr th {\n",
       "        vertical-align: top;\n",
       "    }\n",
       "\n",
       "    .dataframe thead th {\n",
       "        text-align: right;\n",
       "    }\n",
       "</style>\n",
       "<table border=\"1\" class=\"dataframe\">\n",
       "  <thead>\n",
       "    <tr style=\"text-align: right;\">\n",
       "      <th></th>\n",
       "      <th>Id</th>\n",
       "      <th>Predicted</th>\n",
       "    </tr>\n",
       "  </thead>\n",
       "  <tbody>\n",
       "    <tr>\n",
       "      <th>0</th>\n",
       "      <td>10003_age</td>\n",
       "      <td>50.0</td>\n",
       "    </tr>\n",
       "    <tr>\n",
       "      <th>1</th>\n",
       "      <td>10003_domain1_var1</td>\n",
       "      <td>50.0</td>\n",
       "    </tr>\n",
       "    <tr>\n",
       "      <th>2</th>\n",
       "      <td>10003_domain1_var2</td>\n",
       "      <td>50.0</td>\n",
       "    </tr>\n",
       "    <tr>\n",
       "      <th>3</th>\n",
       "      <td>10003_domain2_var1</td>\n",
       "      <td>50.0</td>\n",
       "    </tr>\n",
       "    <tr>\n",
       "      <th>4</th>\n",
       "      <td>10003_domain2_var2</td>\n",
       "      <td>50.0</td>\n",
       "    </tr>\n",
       "    <tr>\n",
       "      <th>...</th>\n",
       "      <td>...</td>\n",
       "      <td>...</td>\n",
       "    </tr>\n",
       "    <tr>\n",
       "      <th>29380</th>\n",
       "      <td>21753_age</td>\n",
       "      <td>50.0</td>\n",
       "    </tr>\n",
       "    <tr>\n",
       "      <th>29381</th>\n",
       "      <td>21753_domain1_var1</td>\n",
       "      <td>50.0</td>\n",
       "    </tr>\n",
       "    <tr>\n",
       "      <th>29382</th>\n",
       "      <td>21753_domain1_var2</td>\n",
       "      <td>50.0</td>\n",
       "    </tr>\n",
       "    <tr>\n",
       "      <th>29383</th>\n",
       "      <td>21753_domain2_var1</td>\n",
       "      <td>50.0</td>\n",
       "    </tr>\n",
       "    <tr>\n",
       "      <th>29384</th>\n",
       "      <td>21753_domain2_var2</td>\n",
       "      <td>50.0</td>\n",
       "    </tr>\n",
       "  </tbody>\n",
       "</table>\n",
       "<p>29385 rows × 2 columns</p>\n",
       "</div>"
      ],
      "text/plain": [
       "                       Id  Predicted\n",
       "0               10003_age       50.0\n",
       "1      10003_domain1_var1       50.0\n",
       "2      10003_domain1_var2       50.0\n",
       "3      10003_domain2_var1       50.0\n",
       "4      10003_domain2_var2       50.0\n",
       "...                   ...        ...\n",
       "29380           21753_age       50.0\n",
       "29381  21753_domain1_var1       50.0\n",
       "29382  21753_domain1_var2       50.0\n",
       "29383  21753_domain2_var1       50.0\n",
       "29384  21753_domain2_var2       50.0\n",
       "\n",
       "[29385 rows x 2 columns]"
      ]
     },
     "execution_count": 3,
     "metadata": {},
     "output_type": "execute_result"
    }
   ],
   "source": [
    "trends"
   ]
  },
  {
   "cell_type": "code",
   "execution_count": 4,
   "id": "e18e1b33",
   "metadata": {},
   "outputs": [
    {
     "data": {
      "text/html": [
       "<div>\n",
       "<style scoped>\n",
       "    .dataframe tbody tr th:only-of-type {\n",
       "        vertical-align: middle;\n",
       "    }\n",
       "\n",
       "    .dataframe tbody tr th {\n",
       "        vertical-align: top;\n",
       "    }\n",
       "\n",
       "    .dataframe thead th {\n",
       "        text-align: right;\n",
       "    }\n",
       "</style>\n",
       "<table border=\"1\" class=\"dataframe\">\n",
       "  <thead>\n",
       "    <tr style=\"text-align: right;\">\n",
       "      <th></th>\n",
       "      <th>Id</th>\n",
       "      <th>Predicted</th>\n",
       "    </tr>\n",
       "  </thead>\n",
       "  <tbody>\n",
       "    <tr>\n",
       "      <th>0</th>\n",
       "      <td>10003_age</td>\n",
       "      <td>50.0</td>\n",
       "    </tr>\n",
       "    <tr>\n",
       "      <th>1</th>\n",
       "      <td>10003_domain1_var1</td>\n",
       "      <td>50.0</td>\n",
       "    </tr>\n",
       "    <tr>\n",
       "      <th>2</th>\n",
       "      <td>10003_domain1_var2</td>\n",
       "      <td>50.0</td>\n",
       "    </tr>\n",
       "    <tr>\n",
       "      <th>3</th>\n",
       "      <td>10003_domain2_var1</td>\n",
       "      <td>50.0</td>\n",
       "    </tr>\n",
       "    <tr>\n",
       "      <th>4</th>\n",
       "      <td>10003_domain2_var2</td>\n",
       "      <td>50.0</td>\n",
       "    </tr>\n",
       "    <tr>\n",
       "      <th>5</th>\n",
       "      <td>10006_age</td>\n",
       "      <td>50.0</td>\n",
       "    </tr>\n",
       "    <tr>\n",
       "      <th>6</th>\n",
       "      <td>10006_domain1_var1</td>\n",
       "      <td>50.0</td>\n",
       "    </tr>\n",
       "    <tr>\n",
       "      <th>7</th>\n",
       "      <td>10006_domain1_var2</td>\n",
       "      <td>50.0</td>\n",
       "    </tr>\n",
       "    <tr>\n",
       "      <th>8</th>\n",
       "      <td>10006_domain2_var1</td>\n",
       "      <td>50.0</td>\n",
       "    </tr>\n",
       "    <tr>\n",
       "      <th>9</th>\n",
       "      <td>10006_domain2_var2</td>\n",
       "      <td>50.0</td>\n",
       "    </tr>\n",
       "  </tbody>\n",
       "</table>\n",
       "</div>"
      ],
      "text/plain": [
       "                   Id  Predicted\n",
       "0           10003_age       50.0\n",
       "1  10003_domain1_var1       50.0\n",
       "2  10003_domain1_var2       50.0\n",
       "3  10003_domain2_var1       50.0\n",
       "4  10003_domain2_var2       50.0\n",
       "5           10006_age       50.0\n",
       "6  10006_domain1_var1       50.0\n",
       "7  10006_domain1_var2       50.0\n",
       "8  10006_domain2_var1       50.0\n",
       "9  10006_domain2_var2       50.0"
      ]
     },
     "execution_count": 4,
     "metadata": {},
     "output_type": "execute_result"
    }
   ],
   "source": [
    "trends.head(10)"
   ]
  },
  {
   "cell_type": "code",
   "execution_count": 5,
   "id": "0fdfe6bf",
   "metadata": {},
   "outputs": [
    {
     "data": {
      "text/html": [
       "<div>\n",
       "<style scoped>\n",
       "    .dataframe tbody tr th:only-of-type {\n",
       "        vertical-align: middle;\n",
       "    }\n",
       "\n",
       "    .dataframe tbody tr th {\n",
       "        vertical-align: top;\n",
       "    }\n",
       "\n",
       "    .dataframe thead th {\n",
       "        text-align: right;\n",
       "    }\n",
       "</style>\n",
       "<table border=\"1\" class=\"dataframe\">\n",
       "  <thead>\n",
       "    <tr style=\"text-align: right;\">\n",
       "      <th></th>\n",
       "      <th>Id</th>\n",
       "      <th>Predicted</th>\n",
       "    </tr>\n",
       "  </thead>\n",
       "  <tbody>\n",
       "    <tr>\n",
       "      <th>29375</th>\n",
       "      <td>21751_age</td>\n",
       "      <td>50.0</td>\n",
       "    </tr>\n",
       "    <tr>\n",
       "      <th>29376</th>\n",
       "      <td>21751_domain1_var1</td>\n",
       "      <td>50.0</td>\n",
       "    </tr>\n",
       "    <tr>\n",
       "      <th>29377</th>\n",
       "      <td>21751_domain1_var2</td>\n",
       "      <td>50.0</td>\n",
       "    </tr>\n",
       "    <tr>\n",
       "      <th>29378</th>\n",
       "      <td>21751_domain2_var1</td>\n",
       "      <td>50.0</td>\n",
       "    </tr>\n",
       "    <tr>\n",
       "      <th>29379</th>\n",
       "      <td>21751_domain2_var2</td>\n",
       "      <td>50.0</td>\n",
       "    </tr>\n",
       "    <tr>\n",
       "      <th>29380</th>\n",
       "      <td>21753_age</td>\n",
       "      <td>50.0</td>\n",
       "    </tr>\n",
       "    <tr>\n",
       "      <th>29381</th>\n",
       "      <td>21753_domain1_var1</td>\n",
       "      <td>50.0</td>\n",
       "    </tr>\n",
       "    <tr>\n",
       "      <th>29382</th>\n",
       "      <td>21753_domain1_var2</td>\n",
       "      <td>50.0</td>\n",
       "    </tr>\n",
       "    <tr>\n",
       "      <th>29383</th>\n",
       "      <td>21753_domain2_var1</td>\n",
       "      <td>50.0</td>\n",
       "    </tr>\n",
       "    <tr>\n",
       "      <th>29384</th>\n",
       "      <td>21753_domain2_var2</td>\n",
       "      <td>50.0</td>\n",
       "    </tr>\n",
       "  </tbody>\n",
       "</table>\n",
       "</div>"
      ],
      "text/plain": [
       "                       Id  Predicted\n",
       "29375           21751_age       50.0\n",
       "29376  21751_domain1_var1       50.0\n",
       "29377  21751_domain1_var2       50.0\n",
       "29378  21751_domain2_var1       50.0\n",
       "29379  21751_domain2_var2       50.0\n",
       "29380           21753_age       50.0\n",
       "29381  21753_domain1_var1       50.0\n",
       "29382  21753_domain1_var2       50.0\n",
       "29383  21753_domain2_var1       50.0\n",
       "29384  21753_domain2_var2       50.0"
      ]
     },
     "execution_count": 5,
     "metadata": {},
     "output_type": "execute_result"
    }
   ],
   "source": [
    "trends.tail(10)"
   ]
  },
  {
   "cell_type": "code",
   "execution_count": 6,
   "id": "5d30ca66",
   "metadata": {},
   "outputs": [
    {
     "name": "stdout",
     "output_type": "stream",
     "text": [
      "<class 'pandas.core.frame.DataFrame'>\n",
      "RangeIndex: 29385 entries, 0 to 29384\n",
      "Data columns (total 2 columns):\n",
      " #   Column     Non-Null Count  Dtype  \n",
      "---  ------     --------------  -----  \n",
      " 0   Id         29385 non-null  object \n",
      " 1   Predicted  29385 non-null  float64\n",
      "dtypes: float64(1), object(1)\n",
      "memory usage: 459.3+ KB\n"
     ]
    }
   ],
   "source": [
    "trends.info()"
   ]
  },
  {
   "cell_type": "code",
   "execution_count": 7,
   "id": "8bdcca79",
   "metadata": {},
   "outputs": [
    {
     "data": {
      "text/plain": [
       "(29385, 2)"
      ]
     },
     "execution_count": 7,
     "metadata": {},
     "output_type": "execute_result"
    }
   ],
   "source": [
    "trends.shape"
   ]
  },
  {
   "cell_type": "code",
   "execution_count": 8,
   "id": "a797f811",
   "metadata": {},
   "outputs": [
    {
     "data": {
      "text/plain": [
       "<bound method DataFrame.isna of                        Id  Predicted\n",
       "0               10003_age       50.0\n",
       "1      10003_domain1_var1       50.0\n",
       "2      10003_domain1_var2       50.0\n",
       "3      10003_domain2_var1       50.0\n",
       "4      10003_domain2_var2       50.0\n",
       "...                   ...        ...\n",
       "29380           21753_age       50.0\n",
       "29381  21753_domain1_var1       50.0\n",
       "29382  21753_domain1_var2       50.0\n",
       "29383  21753_domain2_var1       50.0\n",
       "29384  21753_domain2_var2       50.0\n",
       "\n",
       "[29385 rows x 2 columns]>"
      ]
     },
     "execution_count": 8,
     "metadata": {},
     "output_type": "execute_result"
    }
   ],
   "source": [
    "trends.isna"
   ]
  },
  {
   "cell_type": "code",
   "execution_count": 9,
   "id": "473cb395",
   "metadata": {},
   "outputs": [
    {
     "data": {
      "text/html": [
       "<div>\n",
       "<style scoped>\n",
       "    .dataframe tbody tr th:only-of-type {\n",
       "        vertical-align: middle;\n",
       "    }\n",
       "\n",
       "    .dataframe tbody tr th {\n",
       "        vertical-align: top;\n",
       "    }\n",
       "\n",
       "    .dataframe thead th {\n",
       "        text-align: right;\n",
       "    }\n",
       "</style>\n",
       "<table border=\"1\" class=\"dataframe\">\n",
       "  <thead>\n",
       "    <tr style=\"text-align: right;\">\n",
       "      <th></th>\n",
       "      <th>Id</th>\n",
       "      <th>Predicted</th>\n",
       "    </tr>\n",
       "  </thead>\n",
       "  <tbody>\n",
       "    <tr>\n",
       "      <th>0</th>\n",
       "      <td>10003_age</td>\n",
       "      <td>61.7611</td>\n",
       "    </tr>\n",
       "    <tr>\n",
       "      <th>1</th>\n",
       "      <td>10003_domain1_var1</td>\n",
       "      <td>48.8018</td>\n",
       "    </tr>\n",
       "    <tr>\n",
       "      <th>2</th>\n",
       "      <td>10003_domain1_var2</td>\n",
       "      <td>60.2756</td>\n",
       "    </tr>\n",
       "    <tr>\n",
       "      <th>3</th>\n",
       "      <td>10003_domain2_var1</td>\n",
       "      <td>47.6500</td>\n",
       "    </tr>\n",
       "    <tr>\n",
       "      <th>4</th>\n",
       "      <td>10003_domain2_var2</td>\n",
       "      <td>53.4443</td>\n",
       "    </tr>\n",
       "  </tbody>\n",
       "</table>\n",
       "</div>"
      ],
      "text/plain": [
       "                   Id  Predicted\n",
       "0           10003_age    61.7611\n",
       "1  10003_domain1_var1    48.8018\n",
       "2  10003_domain1_var2    60.2756\n",
       "3  10003_domain2_var1    47.6500\n",
       "4  10003_domain2_var2    53.4443"
      ]
     },
     "execution_count": 9,
     "metadata": {},
     "output_type": "execute_result"
    }
   ],
   "source": [
    "trends2.head()"
   ]
  },
  {
   "cell_type": "code",
   "execution_count": 10,
   "id": "386fcd12",
   "metadata": {},
   "outputs": [
    {
     "data": {
      "image/jpeg": "[encoded data removed]",
      "text/html": [
       "\n",
       "        <iframe\n",
       "            width=\"600\"\n",
       "            height=\"400\"\n",
       "            src=\"https://www.youtube.com/embed/N2apCx1rlIQ\"\n",
       "            frameborder=\"0\"\n",
       "            allowfullscreen\n",
       "        ></iframe>\n",
       "        "
      ],
      "text/plain": [
       "<IPython.lib.display.YouTubeVideo at 0x1e1254d81c0>"
      ]
     },
     "execution_count": 10,
     "metadata": {},
     "output_type": "execute_result"
    }
   ],
   "source": [
    "from IPython.display import IFrame, YouTubeVideo\n",
    "YouTubeVideo('N2apCx1rlIQ',width=600, height=400)"
   ]
  },
  {
   "cell_type": "code",
   "execution_count": 11,
   "id": "a4eb69af",
   "metadata": {},
   "outputs": [
    {
     "name": "stderr",
     "output_type": "stream",
     "text": [
      "C:\\ProgramData\\Anaconda3\\lib\\site-packages\\nilearn\\datasets\\__init__.py:93: FutureWarning: Fetchers from the nilearn.datasets module will be updated in version 0.9 to return python strings instead of bytes and Pandas dataframes instead of Numpy arrays.\n",
      "  warn(\"Fetchers from the nilearn.datasets module will be \"\n"
     ]
    }
   ],
   "source": [
    "import os\n",
    "\n",
    "\n",
    "import random\n",
    "import seaborn as sns\n",
    "import cv2\n",
    "# General packages\n",
    "import pandas as pd\n",
    "import numpy as np\n",
    "import matplotlib\n",
    "import matplotlib.pyplot as plt\n",
    "import PIL\n",
    "\n",
    "import nilearn as nl\n",
    "import nilearn.plotting as nlplt\n",
    "import nibabel as nib\n",
    "import h5py\n",
    "import plotly.graph_objs as go\n",
    "from IPython.display import Image, display\n",
    "import joypy\n",
    "import warnings\n",
    "warnings.filterwarnings(\"ignore\");"
   ]
  },
  {
   "cell_type": "code",
   "execution_count": 12,
   "id": "8c4969b6",
   "metadata": {},
   "outputs": [
    {
     "data": {
      "text/plain": [
       "['.ipynb_checkpoints',\n",
       " 'ch2better.nii',\n",
       " 'sample_submission.csv',\n",
       " 'submission1.csv',\n",
       " 'TReNDS Neuroimaging(fMRI).ipynb']"
      ]
     },
     "execution_count": 12,
     "metadata": {},
     "output_type": "execute_result"
    }
   ],
   "source": [
    "os.listdir()\n"
   ]
  },
  {
   "cell_type": "code",
   "execution_count": null,
   "id": "30e1e063",
   "metadata": {},
   "outputs": [],
   "source": []
  },
  {
   "cell_type": "code",
   "execution_count": null,
   "id": "8c0c31bc",
   "metadata": {},
   "outputs": [],
   "source": []
  },
  {
   "cell_type": "code",
   "execution_count": 13,
   "id": "08c2300c",
   "metadata": {},
   "outputs": [],
   "source": [
    "def plot_bar(df, feature, title='', show_percent = False, size=2):\n",
    "    f, ax = plt.subplots(1,1, figsize=(4*size,3*size))\n",
    "    total = float(len(df))\n",
    "    sns.barplot(np.round(df[feature].value_counts().index).astype(int), df[feature].value_counts().values, alpha=0.8, palette='Set2')\n",
    "\n",
    "    plt.title(title)\n",
    "    if show_percent:\n",
    "        for p in ax.patches:\n",
    "            height = p.get_height()\n",
    "            ax.text(p.get_x()+p.get_width()/2.,\n",
    "                    height + 3,\n",
    "                    '{:1.2f}%'.format(100*height/total),\n",
    "                    ha=\"center\", rotation=45) \n",
    "    plt.xlabel(feature, fontsize=12, )\n",
    "    plt.ylabel('Number of Occurrences', fontsize=12)\n",
    "    plt.xticks(rotation=90)\n",
    "    plt.show()"
   ]
  },
  {
   "cell_type": "code",
   "execution_count": 14,
   "id": "99d75723",
   "metadata": {},
   "outputs": [
    {
     "data": {
      "text/html": [
       "<div>\n",
       "<style scoped>\n",
       "    .dataframe tbody tr th:only-of-type {\n",
       "        vertical-align: middle;\n",
       "    }\n",
       "\n",
       "    .dataframe tbody tr th {\n",
       "        vertical-align: top;\n",
       "    }\n",
       "\n",
       "    .dataframe thead th {\n",
       "        text-align: right;\n",
       "    }\n",
       "</style>\n",
       "<table border=\"1\" class=\"dataframe\">\n",
       "  <thead>\n",
       "    <tr style=\"text-align: right;\">\n",
       "      <th></th>\n",
       "      <th>Id</th>\n",
       "      <th>Predicted</th>\n",
       "    </tr>\n",
       "  </thead>\n",
       "  <tbody>\n",
       "    <tr>\n",
       "      <th>0</th>\n",
       "      <td>10003_age</td>\n",
       "      <td>50.0</td>\n",
       "    </tr>\n",
       "    <tr>\n",
       "      <th>1</th>\n",
       "      <td>10003_domain1_var1</td>\n",
       "      <td>50.0</td>\n",
       "    </tr>\n",
       "    <tr>\n",
       "      <th>2</th>\n",
       "      <td>10003_domain1_var2</td>\n",
       "      <td>50.0</td>\n",
       "    </tr>\n",
       "    <tr>\n",
       "      <th>3</th>\n",
       "      <td>10003_domain2_var1</td>\n",
       "      <td>50.0</td>\n",
       "    </tr>\n",
       "    <tr>\n",
       "      <th>4</th>\n",
       "      <td>10003_domain2_var2</td>\n",
       "      <td>50.0</td>\n",
       "    </tr>\n",
       "    <tr>\n",
       "      <th>...</th>\n",
       "      <td>...</td>\n",
       "      <td>...</td>\n",
       "    </tr>\n",
       "    <tr>\n",
       "      <th>29380</th>\n",
       "      <td>21753_age</td>\n",
       "      <td>50.0</td>\n",
       "    </tr>\n",
       "    <tr>\n",
       "      <th>29381</th>\n",
       "      <td>21753_domain1_var1</td>\n",
       "      <td>50.0</td>\n",
       "    </tr>\n",
       "    <tr>\n",
       "      <th>29382</th>\n",
       "      <td>21753_domain1_var2</td>\n",
       "      <td>50.0</td>\n",
       "    </tr>\n",
       "    <tr>\n",
       "      <th>29383</th>\n",
       "      <td>21753_domain2_var1</td>\n",
       "      <td>50.0</td>\n",
       "    </tr>\n",
       "    <tr>\n",
       "      <th>29384</th>\n",
       "      <td>21753_domain2_var2</td>\n",
       "      <td>50.0</td>\n",
       "    </tr>\n",
       "  </tbody>\n",
       "</table>\n",
       "<p>29385 rows × 2 columns</p>\n",
       "</div>"
      ],
      "text/plain": [
       "                       Id  Predicted\n",
       "0               10003_age       50.0\n",
       "1      10003_domain1_var1       50.0\n",
       "2      10003_domain1_var2       50.0\n",
       "3      10003_domain2_var1       50.0\n",
       "4      10003_domain2_var2       50.0\n",
       "...                   ...        ...\n",
       "29380           21753_age       50.0\n",
       "29381  21753_domain1_var1       50.0\n",
       "29382  21753_domain1_var2       50.0\n",
       "29383  21753_domain2_var1       50.0\n",
       "29384  21753_domain2_var2       50.0\n",
       "\n",
       "[29385 rows x 2 columns]"
      ]
     },
     "execution_count": 14,
     "metadata": {},
     "output_type": "execute_result"
    }
   ],
   "source": [
    "trends"
   ]
  },
  {
   "cell_type": "code",
   "execution_count": 15,
   "id": "95d3620e",
   "metadata": {},
   "outputs": [
    {
     "data": {
      "text/plain": [
       "array([[<AxesSubplot:title={'center':'Predicted'}>]], dtype=object)"
      ]
     },
     "execution_count": 15,
     "metadata": {},
     "output_type": "execute_result"
    },
    {
     "data": {
      "image/png": "[encoded data removed]",
      "text/plain": [
       "<Figure size 1440x720 with 1 Axes>"
      ]
     },
     "metadata": {
      "needs_background": "light"
     },
     "output_type": "display_data"
    }
   ],
   "source": [
    "trends.hist(bins=70,grid=False,figsize=(20,10))"
   ]
  },
  {
   "cell_type": "code",
   "execution_count": 16,
   "id": "968a0e44",
   "metadata": {},
   "outputs": [
    {
     "data": {
      "text/plain": [
       "12299_domain2_var2    1\n",
       "21399_domain2_var1    1\n",
       "10374_domain2_var2    1\n",
       "21597_domain1_var2    1\n",
       "11293_age             1\n",
       "                     ..\n",
       "15454_domain2_var2    1\n",
       "19151_domain2_var1    1\n",
       "10827_domain1_var2    1\n",
       "15570_domain1_var1    1\n",
       "18779_domain1_var2    1\n",
       "Name: Id, Length: 29385, dtype: int64"
      ]
     },
     "execution_count": 16,
     "metadata": {},
     "output_type": "execute_result"
    }
   ],
   "source": [
    "trends.Id.value_counts()"
   ]
  },
  {
   "cell_type": "code",
   "execution_count": 17,
   "id": "4e10a6f5",
   "metadata": {},
   "outputs": [
    {
     "data": {
      "text/html": [
       "<div>\n",
       "<style scoped>\n",
       "    .dataframe tbody tr th:only-of-type {\n",
       "        vertical-align: middle;\n",
       "    }\n",
       "\n",
       "    .dataframe tbody tr th {\n",
       "        vertical-align: top;\n",
       "    }\n",
       "\n",
       "    .dataframe thead th {\n",
       "        text-align: right;\n",
       "    }\n",
       "</style>\n",
       "<table border=\"1\" class=\"dataframe\">\n",
       "  <thead>\n",
       "    <tr style=\"text-align: right;\">\n",
       "      <th></th>\n",
       "      <th>Id</th>\n",
       "      <th>Predicted</th>\n",
       "    </tr>\n",
       "  </thead>\n",
       "  <tbody>\n",
       "  </tbody>\n",
       "</table>\n",
       "</div>"
      ],
      "text/plain": [
       "Empty DataFrame\n",
       "Columns: [Id, Predicted]\n",
       "Index: []"
      ]
     },
     "execution_count": 17,
     "metadata": {},
     "output_type": "execute_result"
    }
   ],
   "source": [
    "trends[trends.Predicted == '50']"
   ]
  },
  {
   "cell_type": "code",
   "execution_count": 18,
   "id": "04961750",
   "metadata": {},
   "outputs": [],
   "source": [
    "ti2 = trends2.Id\n",
    "tp2 = trends2.Predicted"
   ]
  },
  {
   "cell_type": "code",
   "execution_count": 19,
   "id": "e81e1407",
   "metadata": {},
   "outputs": [
    {
     "name": "stdout",
     "output_type": "stream",
     "text": [
      "0                 10003_age\n",
      "1        10003_domain1_var1\n",
      "2        10003_domain1_var2\n",
      "3        10003_domain2_var1\n",
      "4        10003_domain2_var2\n",
      "                ...        \n",
      "29380             21753_age\n",
      "29381    21753_domain1_var1\n",
      "29382    21753_domain1_var2\n",
      "29383    21753_domain2_var1\n",
      "29384    21753_domain2_var2\n",
      "Name: Id, Length: 29385, dtype: object\n",
      "0        61.7611\n",
      "1        48.8018\n",
      "2        60.2756\n",
      "3        47.6500\n",
      "4        53.4443\n",
      "          ...   \n",
      "29380    43.2608\n",
      "29381    44.1220\n",
      "29382    60.4468\n",
      "29383    46.6334\n",
      "29384    52.4206\n",
      "Name: Predicted, Length: 29385, dtype: float64\n"
     ]
    }
   ],
   "source": [
    "print(ti2)\n",
    "print(tp2)"
   ]
  },
  {
   "cell_type": "code",
   "execution_count": 20,
   "id": "223535c9",
   "metadata": {},
   "outputs": [
    {
     "data": {
      "text/plain": [
       "(29385,)"
      ]
     },
     "execution_count": 20,
     "metadata": {},
     "output_type": "execute_result"
    }
   ],
   "source": [
    "tp2.shape"
   ]
  },
  {
   "cell_type": "code",
   "execution_count": 21,
   "id": "974c0031",
   "metadata": {},
   "outputs": [
    {
     "data": {
      "text/plain": [
       "<seaborn.axisgrid.FacetGrid at 0x1e1255129a0>"
      ]
     },
     "execution_count": 21,
     "metadata": {},
     "output_type": "execute_result"
    },
    {
     "data": {
      "image/png": "[encoded data removed]",
      "text/plain": [
       "<Figure size 360x360 with 1 Axes>"
      ]
     },
     "metadata": {
      "needs_background": "light"
     },
     "output_type": "display_data"
    }
   ],
   "source": [
    "sns.displot(x='Predicted',data=trends2,bins=50,kde=True)\n",
    "#plt.xlabel(\"Number\");"
   ]
  },
  {
   "cell_type": "code",
   "execution_count": 22,
   "id": "f32d18e1",
   "metadata": {},
   "outputs": [
    {
     "ename": "SyntaxError",
     "evalue": "invalid syntax (<ipython-input-22-2866da03950e>, line 1)",
     "output_type": "error",
     "traceback": [
      "\u001b[1;36m  File \u001b[1;32m\"<ipython-input-22-2866da03950e>\"\u001b[1;36m, line \u001b[1;32m1\u001b[0m\n\u001b[1;33m    sns.countplot(x=,data=trends2)\u001b[0m\n\u001b[1;37m                    ^\u001b[0m\n\u001b[1;31mSyntaxError\u001b[0m\u001b[1;31m:\u001b[0m invalid syntax\n"
     ]
    }
   ],
   "source": [
    "sns.countplot(x=,data=trends2)"
   ]
  },
  {
   "cell_type": "code",
   "execution_count": null,
   "id": "780c0436",
   "metadata": {},
   "outputs": [],
   "source": []
  },
  {
   "cell_type": "code",
   "execution_count": null,
   "id": "9f3191e7",
   "metadata": {},
   "outputs": [],
   "source": []
  }
 ],
 "metadata": {
  "kernelspec": {
   "display_name": "Python 3",
   "language": "python",
   "name": "python3"
  },
  "language_info": {
   "codemirror_mode": {
    "name": "ipython",
    "version": 3
   },
   "file_extension": ".py",
   "mimetype": "text/x-python",
   "name": "python",
   "nbconvert_exporter": "python",
   "pygments_lexer": "ipython3",
   "version": "3.8.8"
  }
 },
 "nbformat": 4,
 "nbformat_minor": 5
}
